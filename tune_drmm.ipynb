{
 "cells": [
  {
   "cell_type": "code",
   "execution_count": 1,
   "metadata": {
    "collapsed": true
   },
   "outputs": [],
   "source": [
    "import subprocess\n",
    "import shlex\n",
    "import os\n",
    "os.environ[\"CUDA_DEVICE_ORDER\"]=\"PCI_BUS_ID\"   # see issue #152\n",
    "os.environ[\"CUDA_VISIBLE_DEVICES\"]=\"\""
   ]
  },
  {
   "cell_type": "code",
   "execution_count": null,
   "metadata": {},
   "outputs": [],
   "source": [
    "fn = \"./examples/robust04/config/drmm_robust04.config\"\n",
    "for i in range(100, 5100, 100):\n",
    "    f = open(fn)\n",
    "    f2 = open(fn+\"_tmp\", \"w\")\n",
    "    for l in f:\n",
    "        if \"test_weights_iters\" in l:\n",
    "            l = \"\\\"test_weights_iters\\\": {}, \\n\".format(i)\n",
    "        f2.write(l)\n",
    "    f2.close()\n",
    "    pargs = shlex.split(\"python matchzoo/main.py --phase predict --model_file ./examples/robust04/config/drmm_tweet.config_tmp\")\n",
    "    p = subprocess.Popen(pargs, stdout=subprocess.PIPE, stderr=subprocess.PIPE)\n",
    "    pout, perr = p.communicate()\n",
    "    pargs = shlex.split(\"./eval/trec_eval.9.0/trec_eval qrels.robust2004.txt data/robust04/predict.test.drmm.txt\")\n",
    "    p = subprocess.Popen(pargs, stdout=subprocess.PIPE, stderr=subprocess.PIPE)\n",
    "    pout, perr = p.communicate()\n",
    "    lines = pout.split(b'\\n')\n",
    "    if len(perr) > 0:\n",
    "        print(perr)\n",
    "    print(i)\n",
    "    for l in lines:\n",
    "        l = l.decode(\"utf8\")\n",
    "        for metric in [\"map\", \"recip_rank\", \"P_30\"]:\n",
    "            if l.startswith(metric):\n",
    "                print(l)"
   ]
  }
 ],
 "metadata": {
  "kernelspec": {
   "display_name": "Python 3",
   "language": "python",
   "name": "python3"
  },
  "language_info": {
   "codemirror_mode": {
    "name": "ipython",
    "version": 3
   },
   "file_extension": ".py",
   "mimetype": "text/x-python",
   "name": "python",
   "nbconvert_exporter": "python",
   "pygments_lexer": "ipython3",
   "version": "3.6.3"
  }
 },
 "nbformat": 4,
 "nbformat_minor": 2
}
