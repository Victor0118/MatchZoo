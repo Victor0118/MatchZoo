{
 "cells": [
  {
   "cell_type": "code",
   "execution_count": 1,
   "metadata": {
    "collapsed": true
   },
   "outputs": [],
   "source": [
    "import subprocess\n",
    "import shlex\n",
    "import os\n",
    "os.environ[\"CUDA_DEVICE_ORDER\"]=\"PCI_BUS_ID\"   # see issue #152\n",
    "os.environ[\"CUDA_VISIBLE_DEVICES\"]=\"\"\n",
    "os.environ['KERAS_BACKEND'] = \"tensorflow\""
   ]
  },
  {
   "cell_type": "code",
   "execution_count": 37,
   "metadata": {
    "scrolled": false
   },
   "outputs": [
    {
     "name": "stdout",
     "output_type": "stream",
     "text": [
      "\"test_weights_iters\": 50, \n",
      "map                    0.2691\n",
      "recip_rank             0.7313\n",
      "P_20                   0.3700\n",
      "P_30                   0.3133\n",
      "ndcg_cut_20            0.4270\n",
      "\"test_weights_iters\": 100, \n",
      "map                    0.2729\n",
      "recip_rank             0.7216\n",
      "P_20                   0.3710\n",
      "P_30                   0.3153\n",
      "ndcg_cut_20            0.4280\n",
      "\"test_weights_iters\": 150, \n",
      "map                    0.2704\n",
      "recip_rank             0.7169\n",
      "P_20                   0.3640\n",
      "P_30                   0.3140\n",
      "ndcg_cut_20            0.4217\n",
      "\"test_weights_iters\": 200, \n",
      "map                    0.2686\n",
      "recip_rank             0.7076\n",
      "P_20                   0.3610\n",
      "P_30                   0.3133\n",
      "ndcg_cut_20            0.4199\n",
      "\"test_weights_iters\": 250, \n",
      "map                    0.2628\n",
      "recip_rank             0.6921\n",
      "P_20                   0.3580\n",
      "P_30                   0.3107\n",
      "ndcg_cut_20            0.4135\n",
      "\"test_weights_iters\": 300, \n",
      "map                    0.2614\n",
      "recip_rank             0.6811\n",
      "P_20                   0.3630\n",
      "P_30                   0.3133\n",
      "ndcg_cut_20            0.4130\n",
      "\"test_weights_iters\": 350, \n"
     ]
    },
    {
     "ename": "KeyboardInterrupt",
     "evalue": "",
     "output_type": "error",
     "traceback": [
      "\u001b[0;31m---------------------------------------------------\u001b[0m",
      "\u001b[0;31mKeyboardInterrupt\u001b[0m Traceback (most recent call last)",
      "\u001b[0;32m<ipython-input-37-d168e492e43d>\u001b[0m in \u001b[0;36m<module>\u001b[0;34m()\u001b[0m\n\u001b[1;32m     11\u001b[0m     \u001b[0mpargs\u001b[0m \u001b[0;34m=\u001b[0m \u001b[0mshlex\u001b[0m\u001b[0;34m.\u001b[0m\u001b[0msplit\u001b[0m\u001b[0;34m(\u001b[0m\u001b[0;34m\"python matchzoo/main.py --phase predict --model_file ./examples/robust04/config/drmm_robust04.config_tmp\"\u001b[0m\u001b[0;34m)\u001b[0m\u001b[0;34m\u001b[0m\u001b[0;34m\u001b[0m\u001b[0m\n\u001b[1;32m     12\u001b[0m     \u001b[0mp\u001b[0m \u001b[0;34m=\u001b[0m \u001b[0msubprocess\u001b[0m\u001b[0;34m.\u001b[0m\u001b[0mPopen\u001b[0m\u001b[0;34m(\u001b[0m\u001b[0mpargs\u001b[0m\u001b[0;34m,\u001b[0m \u001b[0mstdout\u001b[0m\u001b[0;34m=\u001b[0m\u001b[0msubprocess\u001b[0m\u001b[0;34m.\u001b[0m\u001b[0mPIPE\u001b[0m\u001b[0;34m,\u001b[0m \u001b[0mstderr\u001b[0m\u001b[0;34m=\u001b[0m\u001b[0msubprocess\u001b[0m\u001b[0;34m.\u001b[0m\u001b[0mPIPE\u001b[0m\u001b[0;34m)\u001b[0m\u001b[0;34m\u001b[0m\u001b[0;34m\u001b[0m\u001b[0m\n\u001b[0;32m---> 13\u001b[0;31m     \u001b[0mpout\u001b[0m\u001b[0;34m,\u001b[0m \u001b[0mperr\u001b[0m \u001b[0;34m=\u001b[0m \u001b[0mp\u001b[0m\u001b[0;34m.\u001b[0m\u001b[0mcommunicate\u001b[0m\u001b[0;34m(\u001b[0m\u001b[0;34m)\u001b[0m\u001b[0;34m\u001b[0m\u001b[0;34m\u001b[0m\u001b[0m\n\u001b[0m\u001b[1;32m     14\u001b[0m \u001b[0;31m#     print(perr.decode(\"utf8\"))\u001b[0m\u001b[0;34m\u001b[0m\u001b[0;34m\u001b[0m\u001b[0;34m\u001b[0m\u001b[0m\n\u001b[1;32m     15\u001b[0m     \u001b[0mpargs\u001b[0m \u001b[0;34m=\u001b[0m \u001b[0mshlex\u001b[0m\u001b[0;34m.\u001b[0m\u001b[0msplit\u001b[0m\u001b[0;34m(\u001b[0m\u001b[0;34m\"./eval/trec_eval.9.0/trec_eval qrels.robust2004.txt data/robust04/predict.test.drmm.txt -m ndcg_cut.20 -m map -m recip_rank -m P.20,30\"\u001b[0m\u001b[0;34m)\u001b[0m\u001b[0;34m\u001b[0m\u001b[0;34m\u001b[0m\u001b[0m\n",
      "\u001b[0;32m~/anaconda3/lib/python3.6/subprocess.py\u001b[0m in \u001b[0;36mcommunicate\u001b[0;34m(self, input, timeout)\u001b[0m\n\u001b[1;32m    841\u001b[0m \u001b[0;34m\u001b[0m\u001b[0m\n\u001b[1;32m    842\u001b[0m             \u001b[0;32mtry\u001b[0m\u001b[0;34m:\u001b[0m\u001b[0;34m\u001b[0m\u001b[0;34m\u001b[0m\u001b[0m\n\u001b[0;32m--> 843\u001b[0;31m                 \u001b[0mstdout\u001b[0m\u001b[0;34m,\u001b[0m \u001b[0mstderr\u001b[0m \u001b[0;34m=\u001b[0m \u001b[0mself\u001b[0m\u001b[0;34m.\u001b[0m\u001b[0m_communicate\u001b[0m\u001b[0;34m(\u001b[0m\u001b[0minput\u001b[0m\u001b[0;34m,\u001b[0m \u001b[0mendtime\u001b[0m\u001b[0;34m,\u001b[0m \u001b[0mtimeout\u001b[0m\u001b[0;34m)\u001b[0m\u001b[0;34m\u001b[0m\u001b[0;34m\u001b[0m\u001b[0m\n\u001b[0m\u001b[1;32m    844\u001b[0m             \u001b[0;32mfinally\u001b[0m\u001b[0;34m:\u001b[0m\u001b[0;34m\u001b[0m\u001b[0;34m\u001b[0m\u001b[0m\n\u001b[1;32m    845\u001b[0m                 \u001b[0mself\u001b[0m\u001b[0;34m.\u001b[0m\u001b[0m_communication_started\u001b[0m \u001b[0;34m=\u001b[0m \u001b[0;32mTrue\u001b[0m\u001b[0;34m\u001b[0m\u001b[0;34m\u001b[0m\u001b[0m\n",
      "\u001b[0;32m~/anaconda3/lib/python3.6/subprocess.py\u001b[0m in \u001b[0;36m_communicate\u001b[0;34m(self, input, endtime, orig_timeout)\u001b[0m\n\u001b[1;32m   1512\u001b[0m                         \u001b[0;32mraise\u001b[0m \u001b[0mTimeoutExpired\u001b[0m\u001b[0;34m(\u001b[0m\u001b[0mself\u001b[0m\u001b[0;34m.\u001b[0m\u001b[0margs\u001b[0m\u001b[0;34m,\u001b[0m \u001b[0morig_timeout\u001b[0m\u001b[0;34m)\u001b[0m\u001b[0;34m\u001b[0m\u001b[0;34m\u001b[0m\u001b[0m\n\u001b[1;32m   1513\u001b[0m \u001b[0;34m\u001b[0m\u001b[0m\n\u001b[0;32m-> 1514\u001b[0;31m                     \u001b[0mready\u001b[0m \u001b[0;34m=\u001b[0m \u001b[0mselector\u001b[0m\u001b[0;34m.\u001b[0m\u001b[0mselect\u001b[0m\u001b[0;34m(\u001b[0m\u001b[0mtimeout\u001b[0m\u001b[0;34m)\u001b[0m\u001b[0;34m\u001b[0m\u001b[0;34m\u001b[0m\u001b[0m\n\u001b[0m\u001b[1;32m   1515\u001b[0m                     \u001b[0mself\u001b[0m\u001b[0;34m.\u001b[0m\u001b[0m_check_timeout\u001b[0m\u001b[0;34m(\u001b[0m\u001b[0mendtime\u001b[0m\u001b[0;34m,\u001b[0m \u001b[0morig_timeout\u001b[0m\u001b[0;34m)\u001b[0m\u001b[0;34m\u001b[0m\u001b[0;34m\u001b[0m\u001b[0m\n\u001b[1;32m   1516\u001b[0m \u001b[0;34m\u001b[0m\u001b[0m\n",
      "\u001b[0;32m~/anaconda3/lib/python3.6/selectors.py\u001b[0m in \u001b[0;36mselect\u001b[0;34m(self, timeout)\u001b[0m\n\u001b[1;32m    374\u001b[0m             \u001b[0mready\u001b[0m \u001b[0;34m=\u001b[0m \u001b[0;34m[\u001b[0m\u001b[0;34m]\u001b[0m\u001b[0;34m\u001b[0m\u001b[0;34m\u001b[0m\u001b[0m\n\u001b[1;32m    375\u001b[0m             \u001b[0;32mtry\u001b[0m\u001b[0;34m:\u001b[0m\u001b[0;34m\u001b[0m\u001b[0;34m\u001b[0m\u001b[0m\n\u001b[0;32m--> 376\u001b[0;31m                 \u001b[0mfd_event_list\u001b[0m \u001b[0;34m=\u001b[0m \u001b[0mself\u001b[0m\u001b[0;34m.\u001b[0m\u001b[0m_poll\u001b[0m\u001b[0;34m.\u001b[0m\u001b[0mpoll\u001b[0m\u001b[0;34m(\u001b[0m\u001b[0mtimeout\u001b[0m\u001b[0;34m)\u001b[0m\u001b[0;34m\u001b[0m\u001b[0;34m\u001b[0m\u001b[0m\n\u001b[0m\u001b[1;32m    377\u001b[0m             \u001b[0;32mexcept\u001b[0m \u001b[0mInterruptedError\u001b[0m\u001b[0;34m:\u001b[0m\u001b[0;34m\u001b[0m\u001b[0;34m\u001b[0m\u001b[0m\n\u001b[1;32m    378\u001b[0m                 \u001b[0;32mreturn\u001b[0m \u001b[0mready\u001b[0m\u001b[0;34m\u001b[0m\u001b[0;34m\u001b[0m\u001b[0m\n",
      "\u001b[0;31mKeyboardInterrupt\u001b[0m: "
     ]
    }
   ],
   "source": [
    "fn = \"./examples/robust04/config/drmm_robust04.config\"\n",
    "for i in range(50, 3001, 50):\n",
    "    f = open(fn)\n",
    "    f2 = open(fn+\"_tmp\", \"w\")\n",
    "    for l in f:\n",
    "        if \"test_weights_iters\" in l:\n",
    "            l = \"\\\"test_weights_iters\\\": {}, \\n\".format(i)\n",
    "            print(l, end=\"\")\n",
    "        f2.write(l)\n",
    "    f2.close()\n",
    "    pargs = shlex.split(\"python matchzoo/main.py --phase predict --model_file ./examples/robust04/config/drmm_robust04.config_tmp\")\n",
    "    p = subprocess.Popen(pargs, stdout=subprocess.PIPE, stderr=subprocess.PIPE)\n",
    "    pout, perr = p.communicate()\n",
    "#     print(perr.decode(\"utf8\"))\n",
    "    pargs = shlex.split(\"./eval/trec_eval.9.0/trec_eval qrels.robust2004.txt data/robust04/predict.test.drmm.txt -m ndcg_cut.20 -m map -m recip_rank -m P.20,30\")\n",
    "    p = subprocess.Popen(pargs, stdout=subprocess.PIPE, stderr=subprocess.PIPE)\n",
    "    pout, perr = p.communicate()\n",
    "    lines = pout.split(b'\\n')\n",
    "    if len(perr) > 0:\n",
    "        print(perr)\n",
    "    for l in lines:\n",
    "        ls = l.decode(\"utf8\").split(\"\\t\")\n",
    "        if len(ls) > 1:\n",
    "            print(\"{} {}\".format(ls[0], ls[2]))"
   ]
  },
  {
   "cell_type": "code",
   "execution_count": 38,
   "metadata": {},
   "outputs": [
    {
     "name": "stdout",
     "output_type": "stream",
     "text": [
      "\"test_weights_iters\": 100, \n",
      "map                    0.2729\n",
      "recip_rank             0.7216\n",
      "P_20                   0.3710\n",
      "P_30                   0.3153\n",
      "ndcg_cut_20            0.4280\n"
     ]
    }
   ],
   "source": [
    "fn = \"./examples/robust04/config/drmm_robust04.config\"\n",
    "i = 100\n",
    "f = open(fn)\n",
    "f2 = open(fn+\"_tmp\", \"w\")\n",
    "for l in f:\n",
    "    if \"test_weights_iters\" in l:\n",
    "        l = \"\\\"test_weights_iters\\\": {}, \\n\".format(i)\n",
    "        print(l, end=\"\")\n",
    "    f2.write(l)\n",
    "f2.close()\n",
    "pargs = shlex.split(\"python matchzoo/main.py --phase predict --model_file ./examples/robust04/config/drmm_robust04.config_tmp\")\n",
    "p = subprocess.Popen(pargs, stdout=subprocess.PIPE, stderr=subprocess.PIPE)\n",
    "pout, perr = p.communicate()\n",
    "#     print(perr.decode(\"utf8\"))\n",
    "pargs = shlex.split(\"./eval/trec_eval.9.0/trec_eval qrels.robust2004.txt data/robust04/predict.test.drmm.txt -m ndcg_cut.20 -m map -m recip_rank -m P.20,30\")\n",
    "p = subprocess.Popen(pargs, stdout=subprocess.PIPE, stderr=subprocess.PIPE)\n",
    "pout, perr = p.communicate()\n",
    "lines = pout.split(b'\\n')\n",
    "if len(perr) > 0:\n",
    "    print(perr)\n",
    "for l in lines:\n",
    "    ls = l.decode(\"utf8\").split(\"\\t\")\n",
    "    if len(ls) > 1:\n",
    "        print(\"{} {}\".format(ls[0], ls[2]))"
   ]
  },
  {
   "cell_type": "code",
   "execution_count": null,
   "metadata": {
    "collapsed": true
   },
   "outputs": [],
   "source": []
  }
 ],
 "metadata": {
  "kernelspec": {
   "display_name": "Python 3",
   "language": "python",
   "name": "python3"
  },
  "language_info": {
   "codemirror_mode": {
    "name": "ipython",
    "version": 3
   },
   "file_extension": ".py",
   "mimetype": "text/x-python",
   "name": "python",
   "nbconvert_exporter": "python",
   "pygments_lexer": "ipython3",
   "version": "3.6.7"
  }
 },
 "nbformat": 4,
 "nbformat_minor": 2
}
